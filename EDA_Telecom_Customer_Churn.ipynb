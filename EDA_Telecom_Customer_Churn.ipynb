{
 "cells": [
  {
   "cell_type": "markdown",
   "id": "738fd485",
   "metadata": {},
   "source": [
    "### Questions addressed in this project:\n",
    "\n",
    "\n"
   ]
  },
  {
   "cell_type": "markdown",
   "id": "aa44bc42",
   "metadata": {},
   "source": [
    "1.For two groups of those who unsubscribed and who are paying for the service, how long did they usually stay in the service? and what was their average LTV(Life Time Value)?\n",
    "\n",
    "2. For two groups of those who unsubscribed and who are paying for the service, what are the proportion of people used and using phone service?\n",
    "\n",
    "3. For two groups of those who unsubscribed and who are paying for the service, what are the proportion of people used and using phone service with muiltple lines?\n",
    "\n",
    "4. For two groups of those who unsubscribed and who are paying for the service, what are the proportion of people used and using internet service?\n",
    "\n",
    "5. For two groups of those who unsubscribed and who are paying for the service, what are the proportion of people used and using each subset of internet service?\n",
    "\n",
    "6. For those who are still in service with LTV higher than the average LTV of leaked customers, what are the differences compared to general data in each service?\n",
    "\n",
    "7. For two groups of those who unsubscribed and still are paying for the service, what is the proportion of each kind of contract by each group?\n",
    "\n",
    "8. Among ‘gender’, ‘Partner’, ‘Dependents’,’PhoneService’, ‘InternetService’, ‘contract’, and ‘PaymentMethod’, what variable affected the LTV the most?\n"
   ]
  },
  {
   "cell_type": "markdown",
   "id": "e4d1641a",
   "metadata": {},
   "source": [
    "### Gathering data"
   ]
  },
  {
   "cell_type": "code",
   "execution_count": 1,
   "id": "c1ff6ecd",
   "metadata": {},
   "outputs": [],
   "source": [
    "# import all packages and set plots to be embedded inline\n",
    "import numpy as np\n",
    "import pandas as pd\n",
    "import matplotlib.pyplot as plt\n",
    "import seaborn as sb\n",
    "\n",
    "%matplotlib inline"
   ]
  },
  {
   "cell_type": "code",
   "execution_count": 2,
   "id": "32be979d",
   "metadata": {},
   "outputs": [],
   "source": [
    "#load data\n",
    "df = pd.read_csv('D:/Machine Learning/Telecom customer chum/WA_Fn-UseC_-Telco-Customer-Churn.csv')\n",
    "pd.set_option('display.max_columns', None)\n",
    "pd.set_option('display.max_rows', None)"
   ]
  },
  {
   "cell_type": "code",
   "execution_count": 3,
   "id": "c7efe789",
   "metadata": {},
   "outputs": [
    {
     "data": {
      "text/html": [
       "<div>\n",
       "<style scoped>\n",
       "    .dataframe tbody tr th:only-of-type {\n",
       "        vertical-align: middle;\n",
       "    }\n",
       "\n",
       "    .dataframe tbody tr th {\n",
       "        vertical-align: top;\n",
       "    }\n",
       "\n",
       "    .dataframe thead th {\n",
       "        text-align: right;\n",
       "    }\n",
       "</style>\n",
       "<table border=\"1\" class=\"dataframe\">\n",
       "  <thead>\n",
       "    <tr style=\"text-align: right;\">\n",
       "      <th></th>\n",
       "      <th>customerID</th>\n",
       "      <th>gender</th>\n",
       "      <th>SeniorCitizen</th>\n",
       "      <th>Partner</th>\n",
       "      <th>Dependents</th>\n",
       "      <th>tenure</th>\n",
       "      <th>PhoneService</th>\n",
       "      <th>MultipleLines</th>\n",
       "      <th>InternetService</th>\n",
       "      <th>OnlineSecurity</th>\n",
       "      <th>OnlineBackup</th>\n",
       "      <th>DeviceProtection</th>\n",
       "      <th>TechSupport</th>\n",
       "      <th>StreamingTV</th>\n",
       "      <th>StreamingMovies</th>\n",
       "      <th>Contract</th>\n",
       "      <th>PaperlessBilling</th>\n",
       "      <th>PaymentMethod</th>\n",
       "      <th>MonthlyCharges</th>\n",
       "      <th>TotalCharges</th>\n",
       "      <th>Churn</th>\n",
       "    </tr>\n",
       "  </thead>\n",
       "  <tbody>\n",
       "    <tr>\n",
       "      <th>0</th>\n",
       "      <td>7590-VHVEG</td>\n",
       "      <td>Female</td>\n",
       "      <td>0</td>\n",
       "      <td>Yes</td>\n",
       "      <td>No</td>\n",
       "      <td>1</td>\n",
       "      <td>No</td>\n",
       "      <td>No phone service</td>\n",
       "      <td>DSL</td>\n",
       "      <td>No</td>\n",
       "      <td>Yes</td>\n",
       "      <td>No</td>\n",
       "      <td>No</td>\n",
       "      <td>No</td>\n",
       "      <td>No</td>\n",
       "      <td>Month-to-month</td>\n",
       "      <td>Yes</td>\n",
       "      <td>Electronic check</td>\n",
       "      <td>29.85</td>\n",
       "      <td>29.85</td>\n",
       "      <td>No</td>\n",
       "    </tr>\n",
       "    <tr>\n",
       "      <th>1</th>\n",
       "      <td>5575-GNVDE</td>\n",
       "      <td>Male</td>\n",
       "      <td>0</td>\n",
       "      <td>No</td>\n",
       "      <td>No</td>\n",
       "      <td>34</td>\n",
       "      <td>Yes</td>\n",
       "      <td>No</td>\n",
       "      <td>DSL</td>\n",
       "      <td>Yes</td>\n",
       "      <td>No</td>\n",
       "      <td>Yes</td>\n",
       "      <td>No</td>\n",
       "      <td>No</td>\n",
       "      <td>No</td>\n",
       "      <td>One year</td>\n",
       "      <td>No</td>\n",
       "      <td>Mailed check</td>\n",
       "      <td>56.95</td>\n",
       "      <td>1889.5</td>\n",
       "      <td>No</td>\n",
       "    </tr>\n",
       "    <tr>\n",
       "      <th>2</th>\n",
       "      <td>3668-QPYBK</td>\n",
       "      <td>Male</td>\n",
       "      <td>0</td>\n",
       "      <td>No</td>\n",
       "      <td>No</td>\n",
       "      <td>2</td>\n",
       "      <td>Yes</td>\n",
       "      <td>No</td>\n",
       "      <td>DSL</td>\n",
       "      <td>Yes</td>\n",
       "      <td>Yes</td>\n",
       "      <td>No</td>\n",
       "      <td>No</td>\n",
       "      <td>No</td>\n",
       "      <td>No</td>\n",
       "      <td>Month-to-month</td>\n",
       "      <td>Yes</td>\n",
       "      <td>Mailed check</td>\n",
       "      <td>53.85</td>\n",
       "      <td>108.15</td>\n",
       "      <td>Yes</td>\n",
       "    </tr>\n",
       "    <tr>\n",
       "      <th>3</th>\n",
       "      <td>7795-CFOCW</td>\n",
       "      <td>Male</td>\n",
       "      <td>0</td>\n",
       "      <td>No</td>\n",
       "      <td>No</td>\n",
       "      <td>45</td>\n",
       "      <td>No</td>\n",
       "      <td>No phone service</td>\n",
       "      <td>DSL</td>\n",
       "      <td>Yes</td>\n",
       "      <td>No</td>\n",
       "      <td>Yes</td>\n",
       "      <td>Yes</td>\n",
       "      <td>No</td>\n",
       "      <td>No</td>\n",
       "      <td>One year</td>\n",
       "      <td>No</td>\n",
       "      <td>Bank transfer (automatic)</td>\n",
       "      <td>42.30</td>\n",
       "      <td>1840.75</td>\n",
       "      <td>No</td>\n",
       "    </tr>\n",
       "    <tr>\n",
       "      <th>4</th>\n",
       "      <td>9237-HQITU</td>\n",
       "      <td>Female</td>\n",
       "      <td>0</td>\n",
       "      <td>No</td>\n",
       "      <td>No</td>\n",
       "      <td>2</td>\n",
       "      <td>Yes</td>\n",
       "      <td>No</td>\n",
       "      <td>Fiber optic</td>\n",
       "      <td>No</td>\n",
       "      <td>No</td>\n",
       "      <td>No</td>\n",
       "      <td>No</td>\n",
       "      <td>No</td>\n",
       "      <td>No</td>\n",
       "      <td>Month-to-month</td>\n",
       "      <td>Yes</td>\n",
       "      <td>Electronic check</td>\n",
       "      <td>70.70</td>\n",
       "      <td>151.65</td>\n",
       "      <td>Yes</td>\n",
       "    </tr>\n",
       "  </tbody>\n",
       "</table>\n",
       "</div>"
      ],
      "text/plain": [
       "   customerID  gender  SeniorCitizen Partner Dependents  tenure PhoneService  \\\n",
       "0  7590-VHVEG  Female              0     Yes         No       1           No   \n",
       "1  5575-GNVDE    Male              0      No         No      34          Yes   \n",
       "2  3668-QPYBK    Male              0      No         No       2          Yes   \n",
       "3  7795-CFOCW    Male              0      No         No      45           No   \n",
       "4  9237-HQITU  Female              0      No         No       2          Yes   \n",
       "\n",
       "      MultipleLines InternetService OnlineSecurity OnlineBackup  \\\n",
       "0  No phone service             DSL             No          Yes   \n",
       "1                No             DSL            Yes           No   \n",
       "2                No             DSL            Yes          Yes   \n",
       "3  No phone service             DSL            Yes           No   \n",
       "4                No     Fiber optic             No           No   \n",
       "\n",
       "  DeviceProtection TechSupport StreamingTV StreamingMovies        Contract  \\\n",
       "0               No          No          No              No  Month-to-month   \n",
       "1              Yes          No          No              No        One year   \n",
       "2               No          No          No              No  Month-to-month   \n",
       "3              Yes         Yes          No              No        One year   \n",
       "4               No          No          No              No  Month-to-month   \n",
       "\n",
       "  PaperlessBilling              PaymentMethod  MonthlyCharges TotalCharges  \\\n",
       "0              Yes           Electronic check           29.85        29.85   \n",
       "1               No               Mailed check           56.95       1889.5   \n",
       "2              Yes               Mailed check           53.85       108.15   \n",
       "3               No  Bank transfer (automatic)           42.30      1840.75   \n",
       "4              Yes           Electronic check           70.70       151.65   \n",
       "\n",
       "  Churn  \n",
       "0    No  \n",
       "1    No  \n",
       "2   Yes  \n",
       "3    No  \n",
       "4   Yes  "
      ]
     },
     "execution_count": 3,
     "metadata": {},
     "output_type": "execute_result"
    }
   ],
   "source": [
    "df.head()"
   ]
  },
  {
   "cell_type": "code",
   "execution_count": 4,
   "id": "812db27b",
   "metadata": {},
   "outputs": [
    {
     "data": {
      "text/plain": [
       "Month-to-month    3875\n",
       "Two year          1695\n",
       "One year          1473\n",
       "Name: Contract, dtype: int64"
      ]
     },
     "execution_count": 4,
     "metadata": {},
     "output_type": "execute_result"
    }
   ],
   "source": [
    "df.Contract.value_counts()"
   ]
  },
  {
   "cell_type": "code",
   "execution_count": 5,
   "id": "99decccd",
   "metadata": {},
   "outputs": [
    {
     "data": {
      "text/plain": [
       "No     5174\n",
       "Yes    1869\n",
       "Name: Churn, dtype: int64"
      ]
     },
     "execution_count": 5,
     "metadata": {},
     "output_type": "execute_result"
    }
   ],
   "source": [
    "\n",
    "df.Churn.value_counts()"
   ]
  },
  {
   "cell_type": "code",
   "execution_count": 6,
   "id": "beaa501b",
   "metadata": {},
   "outputs": [
    {
     "data": {
      "text/plain": [
       "count    7043.000000\n",
       "mean       32.371149\n",
       "std        24.559481\n",
       "min         0.000000\n",
       "25%         9.000000\n",
       "50%        29.000000\n",
       "75%        55.000000\n",
       "max        72.000000\n",
       "Name: tenure, dtype: float64"
      ]
     },
     "execution_count": 6,
     "metadata": {},
     "output_type": "execute_result"
    }
   ],
   "source": [
    "df.tenure.describe()"
   ]
  },
  {
   "cell_type": "code",
   "execution_count": 7,
   "id": "a038e1c9",
   "metadata": {},
   "outputs": [
    {
     "data": {
      "image/png": "[encoded data removed]",
      "text/plain": [
       "<Figure size 432x288 with 1 Axes>"
      ]
     },
     "metadata": {
      "needs_background": "light"
     },
     "output_type": "display_data"
    }
   ],
   "source": [
    "# show the distribution of tenure.\n",
    "plt.hist(data = df, x = 'tenure');"
   ]
  },
  {
   "cell_type": "markdown",
   "id": "8340b29f",
   "metadata": {},
   "source": [
    "This is not a normal distribution, and with two peaks, which means there are likely two different kinds of groups of people, and either of them love particular services."
   ]
  },
  {
   "cell_type": "code",
   "execution_count": 8,
   "id": "296cd6ae",
   "metadata": {},
   "outputs": [
    {
     "data": {
      "text/plain": [
       "0"
      ]
     },
     "execution_count": 8,
     "metadata": {},
     "output_type": "execute_result"
    }
   ],
   "source": [
    "df[df.customerID.duplicated()].shape[0]"
   ]
  },
  {
   "cell_type": "code",
   "execution_count": 9,
   "id": "ae1256f4",
   "metadata": {},
   "outputs": [
    {
     "data": {
      "text/plain": [
       "(682, 21)"
      ]
     },
     "execution_count": 9,
     "metadata": {},
     "output_type": "execute_result"
    }
   ],
   "source": [
    "df.query('PhoneService == \"No\"').shape"
   ]
  },
  {
   "cell_type": "code",
   "execution_count": 10,
   "id": "72911b0d",
   "metadata": {},
   "outputs": [
    {
     "data": {
      "text/plain": [
       "(7043, 21)"
      ]
     },
     "execution_count": 10,
     "metadata": {},
     "output_type": "execute_result"
    }
   ],
   "source": [
    "df.shape"
   ]
  },
  {
   "cell_type": "code",
   "execution_count": 11,
   "id": "7f620241",
   "metadata": {},
   "outputs": [
    {
     "data": {
      "text/html": [
       "<div>\n",
       "<style scoped>\n",
       "    .dataframe tbody tr th:only-of-type {\n",
       "        vertical-align: middle;\n",
       "    }\n",
       "\n",
       "    .dataframe tbody tr th {\n",
       "        vertical-align: top;\n",
       "    }\n",
       "\n",
       "    .dataframe thead th {\n",
       "        text-align: right;\n",
       "    }\n",
       "</style>\n",
       "<table border=\"1\" class=\"dataframe\">\n",
       "  <thead>\n",
       "    <tr style=\"text-align: right;\">\n",
       "      <th></th>\n",
       "      <th>SeniorCitizen</th>\n",
       "      <th>tenure</th>\n",
       "      <th>MonthlyCharges</th>\n",
       "    </tr>\n",
       "  </thead>\n",
       "  <tbody>\n",
       "    <tr>\n",
       "      <th>count</th>\n",
       "      <td>7043.000000</td>\n",
       "      <td>7043.000000</td>\n",
       "      <td>7043.000000</td>\n",
       "    </tr>\n",
       "    <tr>\n",
       "      <th>mean</th>\n",
       "      <td>0.162147</td>\n",
       "      <td>32.371149</td>\n",
       "      <td>64.761692</td>\n",
       "    </tr>\n",
       "    <tr>\n",
       "      <th>std</th>\n",
       "      <td>0.368612</td>\n",
       "      <td>24.559481</td>\n",
       "      <td>30.090047</td>\n",
       "    </tr>\n",
       "    <tr>\n",
       "      <th>min</th>\n",
       "      <td>0.000000</td>\n",
       "      <td>0.000000</td>\n",
       "      <td>18.250000</td>\n",
       "    </tr>\n",
       "    <tr>\n",
       "      <th>25%</th>\n",
       "      <td>0.000000</td>\n",
       "      <td>9.000000</td>\n",
       "      <td>35.500000</td>\n",
       "    </tr>\n",
       "    <tr>\n",
       "      <th>50%</th>\n",
       "      <td>0.000000</td>\n",
       "      <td>29.000000</td>\n",
       "      <td>70.350000</td>\n",
       "    </tr>\n",
       "    <tr>\n",
       "      <th>75%</th>\n",
       "      <td>0.000000</td>\n",
       "      <td>55.000000</td>\n",
       "      <td>89.850000</td>\n",
       "    </tr>\n",
       "    <tr>\n",
       "      <th>max</th>\n",
       "      <td>1.000000</td>\n",
       "      <td>72.000000</td>\n",
       "      <td>118.750000</td>\n",
       "    </tr>\n",
       "  </tbody>\n",
       "</table>\n",
       "</div>"
      ],
      "text/plain": [
       "       SeniorCitizen       tenure  MonthlyCharges\n",
       "count    7043.000000  7043.000000     7043.000000\n",
       "mean        0.162147    32.371149       64.761692\n",
       "std         0.368612    24.559481       30.090047\n",
       "min         0.000000     0.000000       18.250000\n",
       "25%         0.000000     9.000000       35.500000\n",
       "50%         0.000000    29.000000       70.350000\n",
       "75%         0.000000    55.000000       89.850000\n",
       "max         1.000000    72.000000      118.750000"
      ]
     },
     "execution_count": 11,
     "metadata": {},
     "output_type": "execute_result"
    }
   ],
   "source": [
    "\n",
    "df.describe()"
   ]
  },
  {
   "cell_type": "code",
   "execution_count": 12,
   "id": "7913ac0b",
   "metadata": {},
   "outputs": [
    {
     "name": "stdout",
     "output_type": "stream",
     "text": [
      "<class 'pandas.core.frame.DataFrame'>\n",
      "RangeIndex: 7043 entries, 0 to 7042\n",
      "Data columns (total 21 columns):\n",
      " #   Column            Non-Null Count  Dtype  \n",
      "---  ------            --------------  -----  \n",
      " 0   customerID        7043 non-null   object \n",
      " 1   gender            7043 non-null   object \n",
      " 2   SeniorCitizen     7043 non-null   int64  \n",
      " 3   Partner           7043 non-null   object \n",
      " 4   Dependents        7043 non-null   object \n",
      " 5   tenure            7043 non-null   int64  \n",
      " 6   PhoneService      7043 non-null   object \n",
      " 7   MultipleLines     7043 non-null   object \n",
      " 8   InternetService   7043 non-null   object \n",
      " 9   OnlineSecurity    7043 non-null   object \n",
      " 10  OnlineBackup      7043 non-null   object \n",
      " 11  DeviceProtection  7043 non-null   object \n",
      " 12  TechSupport       7043 non-null   object \n",
      " 13  StreamingTV       7043 non-null   object \n",
      " 14  StreamingMovies   7043 non-null   object \n",
      " 15  Contract          7043 non-null   object \n",
      " 16  PaperlessBilling  7043 non-null   object \n",
      " 17  PaymentMethod     7043 non-null   object \n",
      " 18  MonthlyCharges    7043 non-null   float64\n",
      " 19  TotalCharges      7043 non-null   object \n",
      " 20  Churn             7043 non-null   object \n",
      "dtypes: float64(1), int64(2), object(18)\n",
      "memory usage: 1.1+ MB\n"
     ]
    }
   ],
   "source": [
    "# no missing value\n",
    "df.info()"
   ]
  },
  {
   "cell_type": "code",
   "execution_count": 13,
   "id": "04239e5f",
   "metadata": {},
   "outputs": [
    {
     "data": {
      "text/plain": [
       "0"
      ]
     },
     "execution_count": 13,
     "metadata": {},
     "output_type": "execute_result"
    }
   ],
   "source": [
    "df[df.duplicated()].shape[0]"
   ]
  },
  {
   "cell_type": "markdown",
   "id": "d566cf99",
   "metadata": {},
   "source": [
    "### Assessment report:"
   ]
  },
  {
   "cell_type": "markdown",
   "id": "46d13637",
   "metadata": {},
   "source": [
    "##### Quality issues\n",
    "\n",
    "   * The data type of \"TotalCharges\" should be float64 instead of object\n",
    "   * Many rows of total charges do not equal each tenues times monthly charges"
   ]
  },
  {
   "cell_type": "markdown",
   "id": "906cb728",
   "metadata": {},
   "source": [
    "#### Data Cleaning"
   ]
  },
  {
   "cell_type": "code",
   "execution_count": 14,
   "id": "b5ad7108",
   "metadata": {},
   "outputs": [],
   "source": [
    "\n",
    "df_copy = df.copy()"
   ]
  },
  {
   "cell_type": "markdown",
   "id": "8625651c",
   "metadata": {},
   "source": [
    "\n",
    "##### Issue: The data type of \"TotalCharges\" should be float64 instead of object"
   ]
  },
  {
   "cell_type": "markdown",
   "id": "c776d2c3",
   "metadata": {},
   "source": [
    "##### Define: give None value to all row, and then convert it to data type of float64"
   ]
  },
  {
   "cell_type": "markdown",
   "id": "0d23bce9",
   "metadata": {},
   "source": [
    "##### Code: "
   ]
  },
  {
   "cell_type": "code",
   "execution_count": 15,
   "id": "945d9f6a",
   "metadata": {},
   "outputs": [],
   "source": [
    "df_copy.TotalCharges = None\n",
    "df_copy.TotalCharges=df_copy.TotalCharges.astype(float)\n"
   ]
  },
  {
   "cell_type": "markdown",
   "id": "0f368778",
   "metadata": {},
   "source": [
    "##### Test:"
   ]
  },
  {
   "cell_type": "code",
   "execution_count": 16,
   "id": "c67b0976",
   "metadata": {},
   "outputs": [
    {
     "data": {
      "text/plain": [
       "dtype('float64')"
      ]
     },
     "execution_count": 16,
     "metadata": {},
     "output_type": "execute_result"
    }
   ],
   "source": [
    "df_copy.TotalCharges.dtype"
   ]
  },
  {
   "cell_type": "markdown",
   "id": "8feead97",
   "metadata": {},
   "source": [
    "##### Issue: Many rows of total charges do not equal each tenures times monthly charges"
   ]
  },
  {
   "cell_type": "markdown",
   "id": "eff5abb2",
   "metadata": {},
   "source": [
    "##### Define: give them the values of each tenures times monthly charges"
   ]
  },
  {
   "cell_type": "markdown",
   "id": "908bfaa7",
   "metadata": {},
   "source": [
    "##### Code:"
   ]
  },
  {
   "cell_type": "code",
   "execution_count": 17,
   "id": "a2404999",
   "metadata": {},
   "outputs": [],
   "source": [
    "df_copy.TotalCharges = df_copy.tenure * df_copy.MonthlyCharges"
   ]
  },
  {
   "cell_type": "markdown",
   "id": "e2ce38f9",
   "metadata": {},
   "source": [
    "##### Test:"
   ]
  },
  {
   "cell_type": "code",
   "execution_count": 18,
   "id": "18ee9c23",
   "metadata": {},
   "outputs": [
    {
     "data": {
      "text/plain": [
       "(0, 21)"
      ]
     },
     "execution_count": 18,
     "metadata": {},
     "output_type": "execute_result"
    }
   ],
   "source": [
    "df_copy[df_copy.tenure * df_copy.MonthlyCharges != df_copy.TotalCharges].shape"
   ]
  },
  {
   "cell_type": "markdown",
   "id": "0a426861",
   "metadata": {},
   "source": [
    "#### Final step of Wrangling: Store data"
   ]
  },
  {
   "cell_type": "code",
   "execution_count": 19,
   "id": "a8c12324",
   "metadata": {},
   "outputs": [],
   "source": [
    "# store the clean data\n",
    "df_copy.reset_index(drop=True)\n",
    "df_copy.to_csv('Telco-Customer-Churn_clean.csv')"
   ]
  },
  {
   "cell_type": "code",
   "execution_count": 20,
   "id": "2fa84196",
   "metadata": {},
   "outputs": [],
   "source": [
    "#load data\n",
    "clean_df = pd.read_csv('Telco-Customer-Churn_clean.csv')"
   ]
  },
  {
   "cell_type": "markdown",
   "id": "265ee9bd",
   "metadata": {},
   "source": [
    "### Exploratory Data Analysis"
   ]
  },
  {
   "cell_type": "markdown",
   "id": "f6b6a40f",
   "metadata": {},
   "source": [
    "    Build Visualization Function: desc()"
   ]
  },
  {
   "cell_type": "code",
   "execution_count": 21,
   "id": "9da08ac9",
   "metadata": {},
   "outputs": [],
   "source": [
    "def desc(title=None, xscale=None, yscale=None, xlabel=None, ylabel=None, xlim=None, ylim=None, xticks1=None, xticks2=None, yticks1=None, yticks2=None,legend_title=None, legend_labels=None):\n",
    "    if title:\n",
    "        plt.title(title);\n",
    "    if xscale:\n",
    "        plt.xscale(xscale);\n",
    "    if yscale:\n",
    "        plt.yscale(yscale);\n",
    "    if xlabel:\n",
    "        plt.xlabel(xlabel);\n",
    "    if ylabel:\n",
    "        plt.ylabel(ylabel);\n",
    "    if xlim:\n",
    "        plt.xlim(xlim);\n",
    "    if ylim:\n",
    "        plt.ylim(ylim);\n",
    "    if xticks1:\n",
    "        plt.xticks(xticks1, xticks2);\n",
    "    if yticks1:\n",
    "        plt.yticks(yticks1, yticks2);\n",
    "    if legend_title:\n",
    "        plt.legend(title=legend_title);\n",
    "        if legend_labels:\n",
    "            plt.legend(title=legend_title, labels=legend_labels);"
   ]
  },
  {
   "cell_type": "code",
   "execution_count": 22,
   "id": "c4c20457",
   "metadata": {},
   "outputs": [
    {
     "data": {
      "text/plain": [
       "count    7043.000000\n",
       "mean     2279.581350\n",
       "std      2264.729447\n",
       "min         0.000000\n",
       "25%       394.000000\n",
       "50%      1393.600000\n",
       "75%      3786.100000\n",
       "max      8550.000000\n",
       "Name: TotalCharges, dtype: float64"
      ]
     },
     "execution_count": 22,
     "metadata": {},
     "output_type": "execute_result"
    }
   ],
   "source": [
    "# Examine the distribution of TotalCharges\n",
    "clean_df.TotalCharges.describe()"
   ]
  },
  {
   "cell_type": "code",
   "execution_count": 23,
   "id": "a0ae1e30",
   "metadata": {},
   "outputs": [
    {
     "data": {
      "image/png": "[encoded data removed]",
      "text/plain": [
       "<Figure size 432x288 with 1 Axes>"
      ]
     },
     "metadata": {
      "needs_background": "light"
     },
     "output_type": "display_data"
    }
   ],
   "source": [
    "# Examine the distribution of TotalCharges\n",
    "plt.hist(data = clean_df, x = 'TotalCharges');"
   ]
  },
  {
   "cell_type": "markdown",
   "id": "11614a55",
   "metadata": {},
   "source": [
    "#### Research Question 1: For those who unsubscribed the service, what was their average LTV(Life Time Value)? and how long did they usually stay in the service?"
   ]
  },
  {
   "cell_type": "code",
   "execution_count": 24,
   "id": "11cd89c6",
   "metadata": {},
   "outputs": [],
   "source": [
    "# Extract those who unsubscribed the service\n",
    "Churn_df = clean_df.query('Churn==\"Yes\"')"
   ]
  },
  {
   "cell_type": "code",
   "execution_count": 25,
   "id": "bd57e59a",
   "metadata": {},
   "outputs": [
    {
     "data": {
      "text/plain": [
       "count    1869.000000\n",
       "mean     1531.608828\n",
       "std      1886.774930\n",
       "min        18.850000\n",
       "25%       137.900000\n",
       "50%       700.000000\n",
       "75%      2334.800000\n",
       "max      8481.600000\n",
       "Name: TotalCharges, dtype: float64"
      ]
     },
     "execution_count": 25,
     "metadata": {},
     "output_type": "execute_result"
    }
   ],
   "source": [
    "# Examnie the distribution of tenure\n",
    "Churn_df.TotalCharges.describe()"
   ]
  },
  {
   "cell_type": "code",
   "execution_count": 26,
   "id": "3da06545",
   "metadata": {},
   "outputs": [
    {
     "data": {
      "image/png": "[encoded data removed]",
      "text/plain": [
       "<Figure size 432x288 with 1 Axes>"
      ]
     },
     "metadata": {
      "needs_background": "light"
     },
     "output_type": "display_data"
    }
   ],
   "source": [
    "# Visualize\n",
    "plt.hist(data = Churn_df, x = 'TotalCharges');"
   ]
  },
  {
   "cell_type": "markdown",
   "id": "058f6b40",
   "metadata": {},
   "source": [
    "I found that around 20% of the data are extremely high, so I decided to divide them to see each distribution of data."
   ]
  },
  {
   "cell_type": "code",
   "execution_count": 27,
   "id": "fe7eec44",
   "metadata": {},
   "outputs": [
    {
     "data": {
      "text/plain": [
       "2827.5900000000006"
      ]
     },
     "execution_count": 27,
     "metadata": {},
     "output_type": "execute_result"
    }
   ],
   "source": [
    "#find the 80th percentile of the data in total charges\n",
    "Churn_df.TotalCharges.quantile(0.8)"
   ]
  },
  {
   "cell_type": "code",
   "execution_count": 28,
   "id": "5ed8e175",
   "metadata": {},
   "outputs": [
    {
     "data": {
      "text/plain": [
       "count    1495.000000\n",
       "mean      713.561672\n",
       "std       769.669864\n",
       "min        18.850000\n",
       "25%        85.900000\n",
       "50%       377.600000\n",
       "75%      1132.575000\n",
       "max      2825.650000\n",
       "Name: TotalCharges, dtype: float64"
      ]
     },
     "execution_count": 28,
     "metadata": {},
     "output_type": "execute_result"
    }
   ],
   "source": [
    "# Divide the data by the 80th percentile of the data, and show the distribution of its TotalCharges under 80th percentile \n",
    "TotalCharges_under80 = Churn_df.query('TotalCharges<=2827.59')\n",
    "TotalCharges_above80 = Churn_df.query('TotalCharges>2827.59')\n",
    "TotalCharges_under80.TotalCharges.describe()"
   ]
  },
  {
   "cell_type": "code",
   "execution_count": 29,
   "id": "7ca8813a",
   "metadata": {},
   "outputs": [
    {
     "data": {
      "text/plain": [
       "count     374.000000\n",
       "mean     4801.610160\n",
       "std      1432.384076\n",
       "min      2830.500000\n",
       "25%      3523.275000\n",
       "50%      4607.300000\n",
       "75%      5863.450000\n",
       "max      8481.600000\n",
       "Name: TotalCharges, dtype: float64"
      ]
     },
     "execution_count": 29,
     "metadata": {},
     "output_type": "execute_result"
    }
   ],
   "source": [
    "#show the distribution of its TotalCharges above 80th percentile\n",
    "TotalCharges_above80.TotalCharges.describe()"
   ]
  },
  {
   "cell_type": "code",
   "execution_count": 30,
   "id": "dcbe3541",
   "metadata": {},
   "outputs": [
    {
     "data": {
      "text/plain": [
       "count    1495.000000\n",
       "mean        9.933110\n",
       "std        10.738504\n",
       "min         1.000000\n",
       "25%         1.000000\n",
       "50%         6.000000\n",
       "75%        15.000000\n",
       "max        61.000000\n",
       "Name: tenure, dtype: float64"
      ]
     },
     "execution_count": 30,
     "metadata": {},
     "output_type": "execute_result"
    }
   ],
   "source": [
    "#show the distribution of its tenure under 80th percentile\n",
    "TotalCharges_under80.tenure.describe()"
   ]
  },
  {
   "cell_type": "code",
   "execution_count": 31,
   "id": "e1b50373",
   "metadata": {},
   "outputs": [
    {
     "data": {
      "text/plain": [
       "count    374.000000\n",
       "mean      50.141711\n",
       "std       12.322030\n",
       "min       28.000000\n",
       "25%       40.000000\n",
       "50%       49.500000\n",
       "75%       60.000000\n",
       "max       72.000000\n",
       "Name: tenure, dtype: float64"
      ]
     },
     "execution_count": 31,
     "metadata": {},
     "output_type": "execute_result"
    }
   ],
   "source": [
    "#show the distribution of its tenure above 80th percentile\n",
    "TotalCharges_above80.tenure.describe()"
   ]
  },
  {
   "cell_type": "code",
   "execution_count": 32,
   "id": "c2177a4d",
   "metadata": {},
   "outputs": [
    {
     "data": {
      "image/png": "[encoded data removed]",
      "text/plain": [
       "<Figure size 1080x360 with 2 Axes>"
      ]
     },
     "metadata": {
      "needs_background": "light"
     },
     "output_type": "display_data"
    }
   ],
   "source": [
    "# Visualize both\n",
    "plt.figure(figsize = [15, 5])\n",
    "# left plot: LTV by above and under 80th percentile of data who unsubscribed\n",
    "plt.subplot(1, 2, 1)\n",
    "plt.bar([1, 2], [713, 4801])\n",
    "desc(yticks1=range(0,5250,250), yticks2=range(0,5250,250), xticks1=[1,2],xticks2=['80%(Low LTV)', '20%(High LTV)'],ylabel='LTV(dollars)',xlabel='Customers who unsubscribed', title='LTV(Life Time Value) by 80/20% of those who unsubscribed')\n",
    "\n",
    "# # right plot: Tenure by above and under 80th percentile of data who unsubscribed\n",
    "plt.subplot(1, 2, 2)\n",
    "plt.bar([1, 2], [9, 50])\n",
    "desc(xticks1=[1,2],xticks2=['80%(Low LTV)', '20%(High LTV)'],ylabel='tenure(months)',xlabel='Customers who unsubscribed', title='Tenure(month) by 80/20% of those who unsubscribed')"
   ]
  },
  {
   "cell_type": "markdown",
   "id": "ce267086",
   "metadata": {},
   "source": [
    "Note: The average LTV of 80% of those who unsubscribed is 750 dollars, and its tenures is near 10 months. On the other hand, the average LTV of top 20% of those who unsubscribed is 4750 dollars, and its tenures is near 50 months. And the ratio by the sum of total LTV by each groups is 750*4 : 4750 = 1 : 1.6, which suggests we should focus on serving those 20% customers with high LTV, which brought 60%(1.6/2.6) of our revennue."
   ]
  },
  {
   "cell_type": "markdown",
   "id": "bcc4918c",
   "metadata": {},
   "source": [
    "#### Research Question 2: Relating to Question 1, what kinds of service they subscribed when they were still staying in subscription?"
   ]
  },
  {
   "cell_type": "markdown",
   "id": "03121842",
   "metadata": {},
   "source": [
    "Note: Because I just found that there is a big difference in LTV and tenures between 80/20% of those who unsubscribed, so I decided to investigate this question in both 80/20% groups."
   ]
  },
  {
   "cell_type": "code",
   "execution_count": 33,
   "id": "6f4fd88b",
   "metadata": {},
   "outputs": [],
   "source": [
    "# Extract 80% with low LTV who used the internet service, and save each proportion of subsets of internet service \n",
    "#in the variable \"proportion_internet_sub_service\"\n",
    "TotalCharges_under80_use_internet = TotalCharges_under80.query('InternetService!=\"No\"')\n",
    "proportion_internet_sub_service = np.array([TotalCharges_under80_use_internet.query('OnlineSecurity==\"Yes\"').shape[0]/TotalCharges_under80_use_internet.shape[0],\n",
    "TotalCharges_under80_use_internet.query('TechSupport==\"Yes\"').shape[0]/TotalCharges_under80_use_internet.shape[0],\n",
    "TotalCharges_under80_use_internet.query('OnlineBackup==\"Yes\"').shape[0]/TotalCharges_under80_use_internet.shape[0],\n",
    "TotalCharges_under80_use_internet.query('DeviceProtection==\"Yes\"').shape[0]/TotalCharges_under80_use_internet.shape[0],\n",
    "TotalCharges_under80_use_internet.query('StreamingTV==\"Yes\"').shape[0]/TotalCharges_under80_use_internet.shape[0],\n",
    "TotalCharges_under80_use_internet.query('StreamingMovies==\"Yes\"').shape[0]/TotalCharges_under80_use_internet.shape[0]])*100"
   ]
  },
  {
   "cell_type": "code",
   "execution_count": 34,
   "id": "101d2200",
   "metadata": {},
   "outputs": [],
   "source": [
    "# Extract 20% with high LTV who used the internet service, and save each proportion of subsets of internet service \n",
    "#in the variable \"proportion_internet_sub_service_above80\"\n",
    "TotalCharges_above80_use_internet = TotalCharges_above80.query('InternetService!=\"No\"')\n",
    "proportion_internet_sub_service_above80 = np.array([TotalCharges_above80_use_internet.query('OnlineSecurity==\"Yes\"').shape[0]/TotalCharges_above80_use_internet.shape[0],\n",
    "TotalCharges_above80_use_internet.query('TechSupport==\"Yes\"').shape[0]/TotalCharges_above80_use_internet.shape[0],                                                \n",
    "TotalCharges_above80_use_internet.query('OnlineBackup==\"Yes\"').shape[0]/TotalCharges_above80_use_internet.shape[0],\n",
    "TotalCharges_above80_use_internet.query('DeviceProtection==\"Yes\"').shape[0]/TotalCharges_above80_use_internet.shape[0],\n",
    "TotalCharges_above80_use_internet.query('StreamingTV==\"Yes\"').shape[0]/TotalCharges_above80_use_internet.shape[0],\n",
    "TotalCharges_above80_use_internet.query('StreamingMovies==\"Yes\"').shape[0]/TotalCharges_above80_use_internet.shape[0]])*100"
   ]
  },
  {
   "cell_type": "code",
   "execution_count": 35,
   "id": "2e222bb2",
   "metadata": {},
   "outputs": [
    {
     "data": {
      "image/png": "[encoded data removed]",
      "text/plain": [
       "<Figure size 720x432 with 2 Axes>"
      ]
     },
     "metadata": {
      "needs_background": "light"
     },
     "output_type": "display_data"
    }
   ],
   "source": [
    "# Investigate the proportion of people used phone service by each groups\n",
    "plt.figure(figsize = [10, 6])\n",
    "\n",
    "plt.subplot(2, 1, 1)\n",
    "# Group 1: 80%(low LTV) of data\n",
    "((TotalCharges_under80.PhoneService.value_counts()/TotalCharges_under80.shape[0])*100).plot.barh();\n",
    "desc(title=\"Propotion of whether people used phone service in 80%(low LTV) of data\", xlabel=\"%\",xticks1=range(0,110,10),xticks2=range(0,110,10))\n",
    "\n",
    "plt.subplot(2, 1, 2)\n",
    "# Group 2: 20%(high LTV) of data\n",
    "((TotalCharges_above80.PhoneService.value_counts()/TotalCharges_above80.shape[0])*100).plot.barh();\n",
    "desc(title=\"Proportion of whether people used phone service in 20%(high LTV) of data\", xlabel=\"%\",xticks1=range(0,110,10),xticks2=range(0,110,10))\n",
    "plt.tight_layout()"
   ]
  },
  {
   "cell_type": "markdown",
   "id": "bcfb5bd3",
   "metadata": {},
   "source": [
    "Note: 20%(high LTV) of data has only 2% who didn't use the phone service. On the other hand, 80%(low LTV) of data has 11% who didn't use the phone service, which is 5 times as much as the phone service proportion of 20%(high LTV) of data."
   ]
  },
  {
   "cell_type": "code",
   "execution_count": 36,
   "id": "07f2e8a7",
   "metadata": {},
   "outputs": [
    {
     "data": {
      "image/png": "[encoded data removed]",
      "text/plain": [
       "<Figure size 720x432 with 2 Axes>"
      ]
     },
     "metadata": {
      "needs_background": "light"
     },
     "output_type": "display_data"
    }
   ],
   "source": [
    "# Investigate the proportion of people who used phone service with muiltple lines by each groups\n",
    "plt.figure(figsize = [10, 6])\n",
    "\n",
    "plt.subplot(2, 1, 1)\n",
    "# Group 1: 80%(low LTV) of data\n",
    "TotalCharges_under80_use_phone = TotalCharges_under80.query('PhoneService==\"Yes\"')\n",
    "(((TotalCharges_under80_use_phone.MultipleLines.value_counts()/TotalCharges_under80_use_phone.shape[0]).sort_values(ascending=True))*100).plot.barh();\n",
    "desc(title=\"Proportion of whether people used MultipleLines in 80%(low LTV) of data with Phone Service\", xlabel=\"%\",xticks1=range(0,100,10),xticks2=range(0,100,10));\n",
    "\n",
    "plt.subplot(2, 1, 2)\n",
    "# Group 2: 20%(high LTV) of data\n",
    "TotalCharges_above80_use_phone = TotalCharges_above80.query('PhoneService==\"Yes\"')\n",
    "((TotalCharges_above80_use_phone.MultipleLines.value_counts()/TotalCharges_above80_use_phone.shape[0])*100).plot.barh();\n",
    "desc(title=\"Proportion of whether people used MultipleLines in 20%(high LTV) of data with Phone Service\", xlabel=\"%\",xticks1=range(0,100,10),xticks2=range(0,100,10));\n",
    "\n",
    "plt.tight_layout()"
   ]
  },
  {
   "cell_type": "markdown",
   "id": "ec28596b",
   "metadata": {},
   "source": [
    "Note: 20%(high LTV) of data of those who used phone service has 84% used multiple lines, which is 2 times as much as the proportion of multiple lines in 80%(low LTV) of data of those who used phone service."
   ]
  },
  {
   "cell_type": "code",
   "execution_count": 37,
   "id": "11d5aae1",
   "metadata": {},
   "outputs": [
    {
     "data": {
      "image/png": "[encoded data removed]",
      "text/plain": [
       "<Figure size 720x432 with 2 Axes>"
      ]
     },
     "metadata": {
      "needs_background": "light"
     },
     "output_type": "display_data"
    }
   ],
   "source": [
    "# Investigate proportion of people who used the internet service by each goups\n",
    "plt.figure(figsize = [10, 6])\n",
    "\n",
    "plt.subplot(2, 1, 1)\n",
    "# Group 1: 80%(low LTV) of data\n",
    "((TotalCharges_under80.InternetService.value_counts()/TotalCharges_under80.shape[0])*100).plot.barh();\n",
    "desc(title=\"Proportion of people used the internet service in 80%(low LTV) of data\", xlabel=\"%\",xticks1=range(0,110,10),xticks2=range(0,110,10));\n",
    "\n",
    "plt.subplot(2, 1, 2)\n",
    "# Group 2: 20%(high LTV) of data\n",
    "((TotalCharges_above80.InternetService.value_counts()/TotalCharges_above80.shape[0])*100).plot.barh();\n",
    "desc(title=\"Proportion of people used the internet service in 20%(high LTV) of data\", xlabel=\"%\",xticks1=range(0,110,10),xticks2=range(0,110,10));\n",
    "\n",
    "plt.tight_layout()"
   ]
  },
  {
   "cell_type": "markdown",
   "id": "7d23dd36",
   "metadata": {},
   "source": [
    "Note: I found all of those with high LTV all used internet service. On the other hand, the 80% of those with low LTV has 8% did not use internet service. And, in 20%(high LTV) of data , there is 90% of people used fiber optic as their internet service."
   ]
  },
  {
   "cell_type": "code",
   "execution_count": 38,
   "id": "d4dc1bf8",
   "metadata": {},
   "outputs": [
    {
     "data": {
      "image/png": "[encoded data removed]",
      "text/plain": [
       "<Figure size 864x432 with 2 Axes>"
      ]
     },
     "metadata": {
      "needs_background": "light"
     },
     "output_type": "display_data"
    }
   ],
   "source": [
    "# Investigate the Proportion by subset of internet service by each groups\n",
    "plt.figure(figsize = [12, 6])\n",
    "\n",
    "plt.subplot(2, 1, 1)\n",
    "# Group 1: 80%(low LTV) of data\n",
    "plt.barh(range(0,6), proportion_internet_sub_service)\n",
    "desc(title='Proportion of subset of internet service in 80%(low LTV) data with internet service',xlabel=\"%\",yticks1=range(0,6),yticks2=['OnlineSecurity','TechSupport','OnlineBackup','DeviceProtection','StreamingTV','StreamingMovies'],xticks1=range(0,100,10),xticks2=range(0,100,10))\n",
    "plt.subplot(2, 1, 2)\n",
    "# Group 2: 20%(high LTV) of data\n",
    "plt.barh(range(0,6), proportion_internet_sub_service_above80)\n",
    "desc(title='Proportion of subset of internet service in 20%(high LTV) data with internet service',xlabel=\"%\",yticks1=range(0,6),yticks2=['OnlineSecurity','TechSupport','OnlineBackup','DeviceProtection','StreamingTV','StreamingMovies'],xticks1=range(0,100,10),xticks2=range(0,100,10))\n",
    "plt.tight_layout()"
   ]
  },
  {
   "cell_type": "markdown",
   "id": "3cc93cb1",
   "metadata": {},
   "source": [
    "    Note:\n",
    "\n",
    "    1. The proportion of streaming movies and streaming tv service in 20%(high LTV) of data are both near 80%, which is 2 times as much as the corresponded proportion in 80%(low LTV) of data.\n",
    "    2. The proportion of device protection and online backup service are both near 58%, which is 2.5-3 times as much as the corresponded proportion in 80%(low LTV) of data.\n",
    "    3. The proportion of tech support and online security service are both near 31%, which is near 2.5-3 times as much as the corresponded proportion in 80%(low LTV) of data."
   ]
  },
  {
   "cell_type": "markdown",
   "id": "66274bd1",
   "metadata": {},
   "source": [
    "#### Research Question 3: For those who are still paying the service, what was their average LTV(Life Time Value)? and how long did they usually stay in the service?"
   ]
  },
  {
   "cell_type": "code",
   "execution_count": 39,
   "id": "97b7ce4a",
   "metadata": {},
   "outputs": [],
   "source": [
    "# Extract those who are paying the service\n",
    "paying_df = clean_df.query('Churn==\"No\"')"
   ]
  },
  {
   "cell_type": "code",
   "execution_count": 40,
   "id": "57affd37",
   "metadata": {},
   "outputs": [
    {
     "data": {
      "text/plain": [
       "count    5174.000000\n",
       "mean     2549.770883\n",
       "std      2328.399619\n",
       "min         0.000000\n",
       "25%       574.562500\n",
       "50%      1687.125000\n",
       "75%      4244.812500\n",
       "max      8550.000000\n",
       "Name: TotalCharges, dtype: float64"
      ]
     },
     "execution_count": 40,
     "metadata": {},
     "output_type": "execute_result"
    }
   ],
   "source": [
    "paying_df.TotalCharges.describe()"
   ]
  },
  {
   "cell_type": "code",
   "execution_count": 41,
   "id": "3faeee5d",
   "metadata": {},
   "outputs": [
    {
     "data": {
      "image/png": "[encoded data removed]",
      "text/plain": [
       "<Figure size 432x288 with 1 Axes>"
      ]
     },
     "metadata": {
      "needs_background": "light"
     },
     "output_type": "display_data"
    }
   ],
   "source": [
    "# Visualize\n",
    "plt.hist(data = paying_df, x = 'TotalCharges');"
   ]
  },
  {
   "cell_type": "markdown",
   "id": "8721cd9f",
   "metadata": {},
   "source": [
    "    Note: In order to equally invesetigate data, I decided to divide the data into 80/20% as last two questions"
   ]
  },
  {
   "cell_type": "code",
   "execution_count": 42,
   "id": "2ac7a98c",
   "metadata": {},
   "outputs": [
    {
     "data": {
      "text/plain": [
       "4890.720000000001"
      ]
     },
     "execution_count": 42,
     "metadata": {},
     "output_type": "execute_result"
    }
   ],
   "source": [
    "#find the 80th percentile of the data in total charges\n",
    "paying_df.TotalCharges.quantile(0.8)"
   ]
  },
  {
   "cell_type": "code",
   "execution_count": 43,
   "id": "c2aeafd6",
   "metadata": {},
   "outputs": [
    {
     "data": {
      "text/plain": [
       "(1589.5728195216232, 6389.635410628021)"
      ]
     },
     "execution_count": 43,
     "metadata": {},
     "output_type": "execute_result"
    }
   ],
   "source": [
    "# Divide the data by the 80th percentile of the data, and show the distribution of its TotalCharges under 80th percentile \n",
    "paying_TotalCharges_under80 = paying_df.query('TotalCharges<=4890')\n",
    "paying_TotalCharges_above80 = paying_df.query('TotalCharges>4890')\n",
    "paying_TotalCharges_under80.TotalCharges.mean(),paying_TotalCharges_above80.TotalCharges.mean()"
   ]
  },
  {
   "cell_type": "code",
   "execution_count": 44,
   "id": "ee96b63f",
   "metadata": {},
   "outputs": [
    {
     "data": {
      "text/plain": [
       "(30.60207779656922, 65.43478260869566)"
      ]
     },
     "execution_count": 44,
     "metadata": {},
     "output_type": "execute_result"
    }
   ],
   "source": [
    "paying_TotalCharges_under80.tenure.mean(),paying_TotalCharges_above80.tenure.mean()"
   ]
  },
  {
   "cell_type": "code",
   "execution_count": 45,
   "id": "401f9698",
   "metadata": {},
   "outputs": [
    {
     "data": {
      "image/png": "[encoded data removed]",
      "text/plain": [
       "<Figure size 1080x360 with 2 Axes>"
      ]
     },
     "metadata": {
      "needs_background": "light"
     },
     "output_type": "display_data"
    }
   ],
   "source": [
    "# Visualize both\n",
    "plt.figure(figsize = [15, 5])\n",
    "# left plot: LTV by above and under 80th percentile of data who are still paying the service\n",
    "plt.subplot(1, 2, 1)\n",
    "plt.bar([1, 2], [1589, 6389])\n",
    "desc(yticks1=range(0,7000,500), yticks2=range(0,7000,500), xticks1=[1,2],xticks2=['80%(Low LTV)', '20%(High LTV)'],ylabel='LTV(dollars)',xlabel='Current Customers', title='LTV(Life Time Value) by 80/20% of those who are still paying the service')\n",
    "\n",
    "# # right plot: Tenure by above and under 80th percentile of data who are still paying the service\n",
    "plt.subplot(1, 2, 2)\n",
    "plt.bar([1, 2], [30, 65])\n",
    "desc(yticks1=range(0,70,5), yticks2=range(0,70,5), xticks1=[1,2],xticks2=['80%(Low LTV)', '20%(High LTV)'],ylabel='tenure(months)',xlabel='Current Customers', title='Tenure(month) by 80/20% of those who are still paying the service')"
   ]
  },
  {
   "cell_type": "markdown",
   "id": "680af8d7",
   "metadata": {},
   "source": [
    "Note: The mean LTV in 80%(low LTV) of data is 1589, and the one in 20%(high LTV) of data is 6389. The mean tenures in 80%(low LTV) of data is 30, and the one in 20%(high LTV) of data is 65. And the ratio by the sum of total LTV by each groups is 1590*4 : 6389 = 1 : 1, which suggests we should focus on serving those 20% customers with high LTV, which brought 50%(1/2) of our revenue."
   ]
  },
  {
   "cell_type": "markdown",
   "id": "efe5bd5f",
   "metadata": {},
   "source": [
    "#### Research Question 4: Relating to Question 3, what are the proportions of each kinds of service they are paying?"
   ]
  },
  {
   "cell_type": "markdown",
   "id": "39c025ce",
   "metadata": {},
   "source": [
    "    Note: Because There is a big difference in LTV and tenures between 80/20% of data of current customers, so I decided to investigate this question in both 80/20% groups."
   ]
  },
  {
   "cell_type": "code",
   "execution_count": 46,
   "id": "6adaa73c",
   "metadata": {},
   "outputs": [],
   "source": [
    "# Extract 80% with low LTV who used the internet service, and save each proportion of subsets of internet service \n",
    "#in the variable \"proportion_internet_sub_service\"\n",
    "paying_TotalCharges_under80_use_internet = paying_TotalCharges_under80.query('InternetService!=\"No\"')\n",
    "paying_proportion_internet_sub_service_under80 = np.array([paying_TotalCharges_under80_use_internet.query('OnlineSecurity==\"Yes\"').shape[0]/paying_TotalCharges_under80_use_internet.shape[0],\n",
    "paying_TotalCharges_under80_use_internet.query('TechSupport==\"Yes\"').shape[0]/paying_TotalCharges_under80_use_internet.shape[0],\n",
    "paying_TotalCharges_under80_use_internet.query('OnlineBackup==\"Yes\"').shape[0]/paying_TotalCharges_under80_use_internet.shape[0],\n",
    "paying_TotalCharges_under80_use_internet.query('DeviceProtection==\"Yes\"').shape[0]/paying_TotalCharges_under80_use_internet.shape[0],\n",
    "paying_TotalCharges_under80_use_internet.query('StreamingTV==\"Yes\"').shape[0]/paying_TotalCharges_under80_use_internet.shape[0],\n",
    "paying_TotalCharges_under80_use_internet.query('StreamingMovies==\"Yes\"').shape[0]/paying_TotalCharges_under80_use_internet.shape[0]])*100"
   ]
  },
  {
   "cell_type": "code",
   "execution_count": 47,
   "id": "5b644bb6",
   "metadata": {},
   "outputs": [],
   "source": [
    "# Extract 20% with high LTV who used the internet service, and save each proportion of subsets of internet service \n",
    "#in the variable \"proportion_internet_sub_service_above80\"\n",
    "paying_TotalCharges_above80_use_internet = TotalCharges_above80.query('InternetService!=\"No\"')\n",
    "paying_proportion_internet_sub_service_above80 = np.array([paying_TotalCharges_above80.query('OnlineSecurity==\"Yes\"').shape[0]/paying_TotalCharges_above80.shape[0],\n",
    "paying_TotalCharges_above80.query('TechSupport==\"Yes\"').shape[0]/paying_TotalCharges_above80.shape[0],                                                \n",
    "paying_TotalCharges_above80.query('OnlineBackup==\"Yes\"').shape[0]/paying_TotalCharges_above80.shape[0],\n",
    "paying_TotalCharges_above80.query('DeviceProtection==\"Yes\"').shape[0]/paying_TotalCharges_above80.shape[0],\n",
    "paying_TotalCharges_above80.query('StreamingTV==\"Yes\"').shape[0]/paying_TotalCharges_above80.shape[0],\n",
    "paying_TotalCharges_above80.query('StreamingMovies==\"Yes\"').shape[0]/paying_TotalCharges_above80.shape[0]])*100"
   ]
  },
  {
   "cell_type": "code",
   "execution_count": 48,
   "id": "12a6e2ca",
   "metadata": {},
   "outputs": [
    {
     "data": {
      "image/png": "[encoded data removed]",
      "text/plain": [
       "<Figure size 720x432 with 2 Axes>"
      ]
     },
     "metadata": {
      "needs_background": "light"
     },
     "output_type": "display_data"
    }
   ],
   "source": [
    "# Investigate the proportion of people used phone service by each groups\n",
    "plt.figure(figsize = [10, 6])\n",
    "\n",
    "plt.subplot(2, 1, 1)\n",
    "# Group 1: 80%(low LTV) of data\n",
    "((paying_TotalCharges_under80.PhoneService.value_counts()/paying_TotalCharges_under80.shape[0])*100).plot.barh();\n",
    "desc(title=\"Propotion of whether people used phone service in 80%(low LTV) of data\", xlabel=\"%\",xticks1=range(0,110,10),xticks2=range(0,110,10))\n",
    "\n",
    "plt.subplot(2, 1, 2)\n",
    "# Group 2: 20%(high LTV) of data\n",
    "((paying_TotalCharges_above80.PhoneService.value_counts()/paying_TotalCharges_above80.shape[0])*100).plot.barh();\n",
    "desc(title=\"Proportion of whether people used phone service in 20%(high LTV) of data\", xlabel=\"%\",xticks1=range(0,110,10),xticks2=range(0,110,10))\n",
    "plt.tight_layout()"
   ]
  },
  {
   "cell_type": "markdown",
   "id": "80b664d3",
   "metadata": {},
   "source": [
    "Note: 20%(high LTV) of data has only 2% who didn't use the phone service. On the other hand, 80%(low LTV) of data has 11% who didn't use the phone service, which is 5 times as much as the phone service proportion of 20%(high LTV) of data."
   ]
  },
  {
   "cell_type": "code",
   "execution_count": 49,
   "id": "e8b35298",
   "metadata": {},
   "outputs": [
    {
     "data": {
      "image/png": "[encoded data removed]",
      "text/plain": [
       "<Figure size 720x432 with 2 Axes>"
      ]
     },
     "metadata": {
      "needs_background": "light"
     },
     "output_type": "display_data"
    }
   ],
   "source": [
    "# Investigate the proportion of people who used phone service withn muiltple lines by each groups\n",
    "plt.figure(figsize = [10, 6])\n",
    "\n",
    "plt.subplot(2, 1, 1)\n",
    "# Group 1: 80%(low LTV) of data\n",
    "paying_TotalCharges_under80_use_phone = paying_TotalCharges_under80.query('PhoneService==\"Yes\"')\n",
    "(((paying_TotalCharges_under80_use_phone.MultipleLines.value_counts()/paying_TotalCharges_under80_use_phone.shape[0]).sort_values(ascending=True))*100).plot.barh();\n",
    "desc(title=\"Proportion of whether people used MultipleLines in 80%(low LTV) of data with Phone Service\", xlabel=\"%\",xticks1=range(0,100,10),xticks2=range(0,100,10));\n",
    "\n",
    "plt.subplot(2, 1, 2)\n",
    "# Group 2: 20%(high LTV) of data\n",
    "paying_TotalCharges_above80_use_phone = paying_TotalCharges_above80.query('PhoneService==\"Yes\"')\n",
    "((paying_TotalCharges_above80_use_phone.MultipleLines.value_counts()/paying_TotalCharges_above80_use_phone.shape[0])*100).plot.barh();\n",
    "desc(title=\"Proportion of whether people used MultipleLines in 20%(high LTV) of data with Phone Service\", xlabel=\"%\",xticks1=range(0,100,10),xticks2=range(0,100,10));\n",
    "\n",
    "plt.tight_layout()\n"
   ]
  },
  {
   "cell_type": "markdown",
   "id": "a75a2985",
   "metadata": {},
   "source": [
    "Note: 20%(high LTV) of data of those who used phone service has 83% used multiple lines, which is 2.4 times as much as the proportion of multiple lines in 80%(low LTV) of data of those who used phone service"
   ]
  },
  {
   "cell_type": "code",
   "execution_count": 50,
   "id": "7e98a122",
   "metadata": {},
   "outputs": [
    {
     "data": {
      "image/png": "[encoded data removed]",
      "text/plain": [
       "<Figure size 720x432 with 2 Axes>"
      ]
     },
     "metadata": {
      "needs_background": "light"
     },
     "output_type": "display_data"
    }
   ],
   "source": [
    "# VInvestigate proportion of people who used the internet service by each goups\n",
    "plt.figure(figsize = [10, 6])\n",
    "\n",
    "plt.subplot(2, 1, 1)\n",
    "# Group 1: 80%(low LTV) of data\n",
    "((paying_TotalCharges_under80.InternetService.value_counts()/paying_TotalCharges_under80.shape[0])*100).plot.barh();\n",
    "desc(title=\"Proportion of people used the internet service in 80%(low LTV) of data\", xlabel=\"%\",xticks1=range(0,110,10),xticks2=range(0,110,10));\n",
    "\n",
    "plt.subplot(2, 1, 2)\n",
    "# Group 2: 20%(high LTV) of data\n",
    "((paying_TotalCharges_above80.InternetService.value_counts()/paying_TotalCharges_above80.shape[0])*100).plot.barh();\n",
    "desc(title=\"Proportion of people used the internet service in 20%(high LTV) of data\", xlabel=\"%\",xticks1=range(0,110,10),xticks2=range(0,110,10));\n",
    "\n",
    "plt.tight_layout()"
   ]
  },
  {
   "cell_type": "markdown",
   "id": "051b19c6",
   "metadata": {},
   "source": [
    "Note: I found all of those with high LTV all used internet service. On the other hand, the 80% of those with low LTV has 33% did not use internet service. And, in 20%(high LTV) of data , there is 90% of people used fiber optic as their internet service."
   ]
  },
  {
   "cell_type": "code",
   "execution_count": 51,
   "id": "34a7923a",
   "metadata": {},
   "outputs": [
    {
     "data": {
      "image/png": "[encoded data removed]",
      "text/plain": [
       "<Figure size 864x432 with 2 Axes>"
      ]
     },
     "metadata": {
      "needs_background": "light"
     },
     "output_type": "display_data"
    }
   ],
   "source": [
    "# Investigate the Proportion by subset of internet service by each groups\n",
    "plt.figure(figsize = [12, 6])\n",
    "\n",
    "plt.subplot(2, 1, 1)\n",
    "# Group 1: 80%(low LTV) of data\n",
    "plt.barh(range(0,6),paying_proportion_internet_sub_service_under80)\n",
    "desc(title='Proportion of subset of internet service in 80%(low LTV) data with internet service',xlabel=\"%\",yticks1=range(0,6),yticks2=['OnlineSecurity','TechSupport','OnlineBackup','DeviceProtection','StreamingTV','StreamingMovies'],xticks1=range(0,100,10),xticks2=range(0,100,10))\n",
    "plt.subplot(2, 1, 2)\n",
    "# Group 2: 20%(high LTV) of data\n",
    "plt.barh(range(0,6), paying_proportion_internet_sub_service_above80)\n",
    "desc(title='Proportion of subset of internet service in 20%(high LTV) data with internet service',xlabel=\"%\",yticks1=range(0,6),yticks2=['OnlineSecurity','TechSupport','OnlineBackup','DeviceProtection','StreamingTV','StreamingMovies'],xticks1=range(0,100,10),xticks2=range(0,100,10))\n",
    "plt.tight_layout()"
   ]
  },
  {
   "cell_type": "markdown",
   "id": "d7c59bb4",
   "metadata": {},
   "source": [
    "    Note:\n",
    "\n",
    "    1. All the proportions of each internet services in 80%(low LTV) of data are near 40%.\n",
    "    2. In 20%(high LTV) of data, both streaming movies and streaming tv are near 80%, the proportions of both device protection and online backup are near 75%, and the proportions of techsupport and online seciroty are near 62%."
   ]
  },
  {
   "cell_type": "markdown",
   "id": "a03c5535",
   "metadata": {},
   "source": [
    "#### Research Question 5: For those who are still in service with LTV more than the LTV of leaked customers, which service they are paying the most?"
   ]
  },
  {
   "cell_type": "markdown",
   "id": "83d90429",
   "metadata": {},
   "source": [
    "    Note: Based on above reseach questions, I also want to investigate this question by two diffrent groups: 80/20"
   ]
  },
  {
   "cell_type": "code",
   "execution_count": 52,
   "id": "e9c8c5af",
   "metadata": {},
   "outputs": [],
   "source": [
    "# The average LTV in 80%(low LTV) of data of leaked customers is 750\n",
    "# The average LTV in 20%(high LTV) of data of leaked customers is 4750\n",
    "\n",
    "# Extract the 80%(low LTV) of data that the LTV is higher than 750\n",
    "paying_TotalCharges_under80_higherthanleak = paying_TotalCharges_under80.query('TotalCharges>750')\n",
    "# Extract the 20%(high LTV) of data that the LTV is higher than 4750\n",
    "paying_TotalCharges_above80_higherthanleak = paying_TotalCharges_above80.query('TotalCharges>4750')"
   ]
  },
  {
   "cell_type": "code",
   "execution_count": 53,
   "id": "a32a3389",
   "metadata": {},
   "outputs": [
    {
     "data": {
      "image/png": "[encoded data removed]",
      "text/plain": [
       "<Figure size 720x432 with 2 Axes>"
      ]
     },
     "metadata": {
      "needs_background": "light"
     },
     "output_type": "display_data"
    }
   ],
   "source": [
    "# Investigate the proportion of people used phone service by each groups\n",
    "plt.figure(figsize = [10, 6])\n",
    "\n",
    "plt.subplot(2, 1, 1)\n",
    "# Group 1: 80%(low LTV) of data\n",
    "((paying_TotalCharges_under80_higherthanleak.PhoneService.value_counts()/paying_TotalCharges_under80_higherthanleak.shape[0])*100).plot.barh();\n",
    "desc(title=\"Propotion of whether people used phone service in 80%(low LTV) of data\", xlabel=\"%\",xticks1=range(0,110,10),xticks2=range(0,110,10))\n",
    "\n",
    "plt.subplot(2, 1, 2)\n",
    "# Group 2: 20%(high LTV) of data\n",
    "((paying_TotalCharges_above80_higherthanleak.PhoneService.value_counts()/paying_TotalCharges_above80_higherthanleak.shape[0])*100).plot.barh();\n",
    "desc(title=\"Proportion of whether people used phone service in 20%(high LTV) of data\", xlabel=\"%\",xticks1=range(0,110,10),xticks2=range(0,110,10))\n",
    "plt.tight_layout()"
   ]
  },
  {
   "cell_type": "markdown",
   "id": "44037e83",
   "metadata": {},
   "source": [
    "    Note:\n",
    "\n",
    "    1. In 80%(low LTV) of data of current customers, whose LTV are higher than the LTV In 80%(low LTV) of data of leaked customers, there are 86% are using phone service.\n",
    "    2. In 20%(high LTV) of data of current customers, whose LTV are higher than the LTV In 20%(high LTV) of data of leaked customers, there are 100% are using phone service."
   ]
  },
  {
   "cell_type": "code",
   "execution_count": 54,
   "id": "81987b47",
   "metadata": {},
   "outputs": [
    {
     "data": {
      "image/png": "[encoded data removed]",
      "text/plain": [
       "<Figure size 720x432 with 2 Axes>"
      ]
     },
     "metadata": {
      "needs_background": "light"
     },
     "output_type": "display_data"
    }
   ],
   "source": [
    "# Investigate the proportion of people who used phone service withn muiltple lines by each groups\n",
    "plt.figure(figsize = [10, 6])\n",
    "\n",
    "plt.subplot(2, 1, 1)\n",
    "# Group 1: 80%(low LTV) of data\n",
    "paying_TotalCharges_under80_use_phone_higherthanleak = paying_TotalCharges_under80_higherthanleak.query('PhoneService==\"Yes\"')\n",
    "(((paying_TotalCharges_under80_use_phone_higherthanleak.MultipleLines.value_counts()/paying_TotalCharges_under80_use_phone_higherthanleak.shape[0]).sort_values(ascending=True))*100).plot.barh();\n",
    "desc(title=\"Proportion of whether people used MultipleLines in 80%(low LTV) of data with Phone Service\", xlabel=\"%\",xticks1=range(0,100,10),xticks2=range(0,100,10));\n",
    "\n",
    "plt.subplot(2, 1, 2)\n",
    "# Group 2: 20%(high LTV) of data\n",
    "paying_TotalCharges_above80_use_phone_higherthanleak = paying_TotalCharges_above80_higherthanleak.query('PhoneService==\"Yes\"')\n",
    "((paying_TotalCharges_above80_use_phone_higherthanleak.MultipleLines.value_counts()/paying_TotalCharges_above80_use_phone_higherthanleak.shape[0])*100).plot.barh();\n",
    "desc(title=\"Proportion of whether people used MultipleLines in 20%(high LTV) of data with Phone Service\", xlabel=\"%\",xticks1=range(0,100,10),xticks2=range(0,100,10));\n",
    "\n",
    "plt.tight_layout()"
   ]
  },
  {
   "cell_type": "markdown",
   "id": "9f06dc3a",
   "metadata": {},
   "source": [
    "    Note:\n",
    "\n",
    "    1.In 80%(low LTV) of data of current customers, whose LTV are higher than the LTV In 80%(low LTV) of data of leaked customers, there are 48% using phone service with multiple lines.\n",
    "    2.In 20%(high LTV) of data of current customers, whose LTV are higher than the LTV In 20%(high LTV) of data of leaked customers, there are 89% are using phone service."
   ]
  },
  {
   "cell_type": "code",
   "execution_count": 55,
   "id": "ed9617d3",
   "metadata": {},
   "outputs": [
    {
     "data": {
      "image/png": "[encoded data removed]",
      "text/plain": [
       "<Figure size 720x432 with 2 Axes>"
      ]
     },
     "metadata": {
      "needs_background": "light"
     },
     "output_type": "display_data"
    }
   ],
   "source": [
    "# VInvestigate proportion of people who used the internet service by each goups\n",
    "plt.figure(figsize = [10, 6])\n",
    "\n",
    "plt.subplot(2, 1, 1)\n",
    "# Group 1: 80%(low LTV) of data\n",
    "((paying_TotalCharges_under80_higherthanleak.InternetService.value_counts()/paying_TotalCharges_under80_higherthanleak.shape[0])*100).plot.barh();\n",
    "desc(title=\"Proportion of people used the internet service in 80%(low LTV) of data\", xlabel=\"%\",xticks1=range(0,110,10),xticks2=range(0,110,10));\n",
    "\n",
    "plt.subplot(2, 1, 2)\n",
    "# Group 2: 20%(high LTV) of data\n",
    "((paying_TotalCharges_above80_higherthanleak.InternetService.value_counts()/paying_TotalCharges_above80_higherthanleak.shape[0])*100).plot.barh();\n",
    "desc(title=\"Proportion of people used the internet service in 20%(high LTV) of data\", xlabel=\"%\",xticks1=range(0,110,10),xticks2=range(0,110,10));\n",
    "\n",
    "plt.tight_layout()"
   ]
  },
  {
   "cell_type": "markdown",
   "id": "22df67ce",
   "metadata": {},
   "source": [
    "Note:\n",
    "\n",
    "    1. In 80%(low LTV) of data of current customers, whose LTV are higher than the LTV In 80%(low LTV) of data of leaked customers, there are all the proportions of each internet services in 80%(low LTV) of data are near 45%.\n",
    "    2.In 20%(high LTV) of data of current customers, whose LTV are higher than the LTV In 20%(high LTV) of data of leaked customers, both streaming movies and streaming tv are near 90%, the proportions of both device protection and online backup are near 70%, and the proportions of techsupport and online seciroty are near 37%."
   ]
  },
  {
   "cell_type": "markdown",
   "id": "441a996f",
   "metadata": {},
   "source": [
    "#### Research Question 6: For two groups of those who leaked and still are paying the service, what is the proportion of each kinds of contract by each group?"
   ]
  },
  {
   "cell_type": "code",
   "execution_count": 56,
   "id": "d65d98b1",
   "metadata": {},
   "outputs": [
    {
     "data": {
      "image/png": "[encoded data removed]",
      "text/plain": [
       "<Figure size 864x432 with 2 Axes>"
      ]
     },
     "metadata": {
      "needs_background": "light"
     },
     "output_type": "display_data"
    }
   ],
   "source": [
    "plt.figure(figsize = [12, 6])\n",
    "# Visualize the plot of leaked customers\n",
    "plt.subplot(2, 1, 1)\n",
    "((Churn_df.Contract.value_counts()/Churn_df.shape[0])*100).plot.barh();\n",
    "desc(xticks1=range(0,100,10),xticks2=range(0,100,10),ylabel='Contract',xlabel=\"%\",title=\"The proportion of each contracts that leaked customers had\")\n",
    "\n",
    "# Visualize the plot of current customers\n",
    "plt.subplot(2, 1, 2)\n",
    "((paying_df.Contract.value_counts()/paying_df.shape[0])*100).plot.barh();\n",
    "desc(xticks1=range(0,100,10),xticks2=range(0,100,10),ylabel='Contract',xlabel=\"%\",title=\"The proportion of each contracts that current customers are under\")\n",
    "plt.tight_layout()"
   ]
  },
  {
   "cell_type": "markdown",
   "id": "aa185780",
   "metadata": {},
   "source": [
    "#### Research Question 7: Among 'gender', 'Partner', 'Dependents','PhoneService', 'InternetService', 'contract', and 'PaymentMethod', what variable affected the LTV the most?"
   ]
  },
  {
   "cell_type": "code",
   "execution_count": 57,
   "id": "3c73b7e8",
   "metadata": {},
   "outputs": [],
   "source": [
    "clean_df[['Female', 'Male']] = pd.get_dummies(clean_df['gender'])\n",
    "clean_df[['No', 'Partner_Yes']] = pd.get_dummies(clean_df['Partner'])\n",
    "clean_df[['Dependents_No', 'Dependents_Yes']] = pd.get_dummies(clean_df['Dependents'])\n",
    "clean_df[['No', 'PhoneService_Yes']] = pd.get_dummies(clean_df['PhoneService'])\n",
    "clean_df[['DSL', 'Fiber optic', 'No']] = pd.get_dummies(clean_df['InternetService'])\n",
    "clean_df[['Month-to-month', 'One year', 'Two year']] = pd.get_dummies(clean_df['Contract'])\n",
    "clean_df[['matBank transfer (autoic)', 'Credit card (automatic)', 'Electronic check', 'Mailed check']] = pd.get_dummies(clean_df['PaymentMethod'])"
   ]
  },
  {
   "cell_type": "code",
   "execution_count": 58,
   "id": "0b4f3d7e",
   "metadata": {},
   "outputs": [
    {
     "data": {
      "text/html": [
       "<table class=\"simpletable\">\n",
       "<caption>OLS Regression Results</caption>\n",
       "<tr>\n",
       "  <th>Dep. Variable:</th>      <td>TotalCharges</td>   <th>  R-squared:         </th> <td>   0.592</td> \n",
       "</tr>\n",
       "<tr>\n",
       "  <th>Model:</th>                   <td>OLS</td>       <th>  Adj. R-squared:    </th> <td>   0.592</td> \n",
       "</tr>\n",
       "<tr>\n",
       "  <th>Method:</th>             <td>Least Squares</td>  <th>  F-statistic:       </th> <td>   928.1</td> \n",
       "</tr>\n",
       "<tr>\n",
       "  <th>Date:</th>             <td>Wed, 25 Aug 2021</td> <th>  Prob (F-statistic):</th>  <td>  0.00</td>  \n",
       "</tr>\n",
       "<tr>\n",
       "  <th>Time:</th>                 <td>11:04:36</td>     <th>  Log-Likelihood:    </th> <td> -61243.</td> \n",
       "</tr>\n",
       "<tr>\n",
       "  <th>No. Observations:</th>      <td>  7043</td>      <th>  AIC:               </th> <td>1.225e+05</td>\n",
       "</tr>\n",
       "<tr>\n",
       "  <th>Df Residuals:</th>          <td>  7031</td>      <th>  BIC:               </th> <td>1.226e+05</td>\n",
       "</tr>\n",
       "<tr>\n",
       "  <th>Df Model:</th>              <td>    11</td>      <th>                     </th>     <td> </td>    \n",
       "</tr>\n",
       "<tr>\n",
       "  <th>Covariance Type:</th>      <td>nonrobust</td>    <th>                     </th>     <td> </td>    \n",
       "</tr>\n",
       "</table>\n",
       "<table class=\"simpletable\">\n",
       "<tr>\n",
       "              <td></td>                 <th>coef</th>     <th>std err</th>      <th>t</th>      <th>P>|t|</th>  <th>[0.025</th>    <th>0.975]</th>  \n",
       "</tr>\n",
       "<tr>\n",
       "  <th>intercept</th>                 <td>-2408.0897</td> <td>   90.795</td> <td>  -26.522</td> <td> 0.000</td> <td>-2586.075</td> <td>-2230.105</td>\n",
       "</tr>\n",
       "<tr>\n",
       "  <th>Male</th>                      <td>   35.3705</td> <td>   34.506</td> <td>    1.025</td> <td> 0.305</td> <td>  -32.272</td> <td>  103.013</td>\n",
       "</tr>\n",
       "<tr>\n",
       "  <th>Partner_Yes</th>               <td>  717.1189</td> <td>   40.290</td> <td>   17.799</td> <td> 0.000</td> <td>  638.138</td> <td>  796.100</td>\n",
       "</tr>\n",
       "<tr>\n",
       "  <th>Dependents_No</th>             <td>  254.2784</td> <td>   43.314</td> <td>    5.871</td> <td> 0.000</td> <td>  169.371</td> <td>  339.186</td>\n",
       "</tr>\n",
       "<tr>\n",
       "  <th>PhoneService_Yes</th>          <td>  662.5648</td> <td>   65.517</td> <td>   10.113</td> <td> 0.000</td> <td>  534.132</td> <td>  790.998</td>\n",
       "</tr>\n",
       "<tr>\n",
       "  <th>DSL</th>                       <td> 2043.2198</td> <td>   52.409</td> <td>   38.986</td> <td> 0.000</td> <td> 1940.483</td> <td> 2145.957</td>\n",
       "</tr>\n",
       "<tr>\n",
       "  <th>Fiber optic</th>               <td> 3412.4872</td> <td>   52.277</td> <td>   65.276</td> <td> 0.000</td> <td> 3310.008</td> <td> 3514.967</td>\n",
       "</tr>\n",
       "<tr>\n",
       "  <th>One year</th>                  <td> 1897.2454</td> <td>   46.573</td> <td>   40.737</td> <td> 0.000</td> <td> 1805.947</td> <td> 1988.543</td>\n",
       "</tr>\n",
       "<tr>\n",
       "  <th>Two year</th>                  <td> 2840.6051</td> <td>   48.427</td> <td>   58.658</td> <td> 0.000</td> <td> 2745.674</td> <td> 2935.536</td>\n",
       "</tr>\n",
       "<tr>\n",
       "  <th>matBank transfer (autoic)</th> <td>  583.9313</td> <td>   54.209</td> <td>   10.772</td> <td> 0.000</td> <td>  477.665</td> <td>  690.198</td>\n",
       "</tr>\n",
       "<tr>\n",
       "  <th>Credit card (automatic)</th>   <td>  579.3687</td> <td>   54.315</td> <td>   10.667</td> <td> 0.000</td> <td>  472.895</td> <td>  685.842</td>\n",
       "</tr>\n",
       "<tr>\n",
       "  <th>Electronic check</th>          <td>   32.3058</td> <td>   52.282</td> <td>    0.618</td> <td> 0.537</td> <td>  -70.183</td> <td>  134.795</td>\n",
       "</tr>\n",
       "</table>\n",
       "<table class=\"simpletable\">\n",
       "<tr>\n",
       "  <th>Omnibus:</th>       <td>170.388</td> <th>  Durbin-Watson:     </th> <td>   2.019</td>\n",
       "</tr>\n",
       "<tr>\n",
       "  <th>Prob(Omnibus):</th> <td> 0.000</td>  <th>  Jarque-Bera (JB):  </th> <td> 170.448</td>\n",
       "</tr>\n",
       "<tr>\n",
       "  <th>Skew:</th>          <td> 0.354</td>  <th>  Prob(JB):          </th> <td>9.72e-38</td>\n",
       "</tr>\n",
       "<tr>\n",
       "  <th>Kurtosis:</th>      <td> 2.719</td>  <th>  Cond. No.          </th> <td>    12.1</td>\n",
       "</tr>\n",
       "</table><br/><br/>Notes:<br/>[1] Standard Errors assume that the covariance matrix of the errors is correctly specified."
      ],
      "text/plain": [
       "<class 'statsmodels.iolib.summary.Summary'>\n",
       "\"\"\"\n",
       "                            OLS Regression Results                            \n",
       "==============================================================================\n",
       "Dep. Variable:           TotalCharges   R-squared:                       0.592\n",
       "Model:                            OLS   Adj. R-squared:                  0.592\n",
       "Method:                 Least Squares   F-statistic:                     928.1\n",
       "Date:                Wed, 25 Aug 2021   Prob (F-statistic):               0.00\n",
       "Time:                        11:04:36   Log-Likelihood:                -61243.\n",
       "No. Observations:                7043   AIC:                         1.225e+05\n",
       "Df Residuals:                    7031   BIC:                         1.226e+05\n",
       "Df Model:                          11                                         \n",
       "Covariance Type:            nonrobust                                         \n",
       "=============================================================================================\n",
       "                                coef    std err          t      P>|t|      [0.025      0.975]\n",
       "---------------------------------------------------------------------------------------------\n",
       "intercept                 -2408.0897     90.795    -26.522      0.000   -2586.075   -2230.105\n",
       "Male                         35.3705     34.506      1.025      0.305     -32.272     103.013\n",
       "Partner_Yes                 717.1189     40.290     17.799      0.000     638.138     796.100\n",
       "Dependents_No               254.2784     43.314      5.871      0.000     169.371     339.186\n",
       "PhoneService_Yes            662.5648     65.517     10.113      0.000     534.132     790.998\n",
       "DSL                        2043.2198     52.409     38.986      0.000    1940.483    2145.957\n",
       "Fiber optic                3412.4872     52.277     65.276      0.000    3310.008    3514.967\n",
       "One year                   1897.2454     46.573     40.737      0.000    1805.947    1988.543\n",
       "Two year                   2840.6051     48.427     58.658      0.000    2745.674    2935.536\n",
       "matBank transfer (autoic)   583.9313     54.209     10.772      0.000     477.665     690.198\n",
       "Credit card (automatic)     579.3687     54.315     10.667      0.000     472.895     685.842\n",
       "Electronic check             32.3058     52.282      0.618      0.537     -70.183     134.795\n",
       "==============================================================================\n",
       "Omnibus:                      170.388   Durbin-Watson:                   2.019\n",
       "Prob(Omnibus):                  0.000   Jarque-Bera (JB):              170.448\n",
       "Skew:                           0.354   Prob(JB):                     9.72e-38\n",
       "Kurtosis:                       2.719   Cond. No.                         12.1\n",
       "==============================================================================\n",
       "\n",
       "Notes:\n",
       "[1] Standard Errors assume that the covariance matrix of the errors is correctly specified.\n",
       "\"\"\""
      ]
     },
     "execution_count": 58,
     "metadata": {},
     "output_type": "execute_result"
    }
   ],
   "source": [
    "# use mutiple linear regression\n",
    "import statsmodels.api as sm\n",
    "clean_df['intercept'] = 1\n",
    "lm = sm.OLS(clean_df['TotalCharges'], clean_df[['intercept', 'Male', 'Partner_Yes', 'Dependents_No',\n",
    "                                               'PhoneService_Yes', 'DSL', 'Fiber optic', 'One year', 'Two year',\n",
    "                                               'matBank transfer (autoic)', 'Credit card (automatic)', \n",
    "                                                'Electronic check']])\n",
    "results = lm.fit()\n",
    "results.summary()"
   ]
  },
  {
   "cell_type": "code",
   "execution_count": 59,
   "id": "c158b7b2",
   "metadata": {},
   "outputs": [
    {
     "data": {
      "text/plain": [
       "Dependents_No                 254.278405\n",
       "Credit card (automatic)       579.368673\n",
       "matBank transfer (autoic)     583.931304\n",
       "PhoneService_Yes              662.564814\n",
       "Partner_Yes                   717.118948\n",
       "One year                     1897.245382\n",
       "DSL                          2043.219839\n",
       "Two year                     2840.605106\n",
       "Fiber optic                  3412.487222\n",
       "dtype: float64"
      ]
     },
     "execution_count": 59,
     "metadata": {},
     "output_type": "execute_result"
    }
   ],
   "source": [
    "results.params.sort_values()[3:]"
   ]
  },
  {
   "cell_type": "markdown",
   "id": "9c51bdc8",
   "metadata": {},
   "source": [
    "    Note:\n",
    "\n",
    "    1. 'gender' does not have statistical significance on affecting the LTV.\n",
    "    2. 'Partner' have statistical significance on affecting the LTV, whose coefficient correlation is 717.\n",
    "    3. 'Dependents' have statistical significance on affecting the LTV, whose coefficient correlation is 254.\n",
    "    4. 'PhoneService' have statistical significance on affecting the LTV, whose coefficient correlation is 662.\n",
    "    5. 'InternetService' have statistical significance on affecting the LTV, for 'DSL', whose coefficient correlation is 2043. And, for 'Fiber optic', whose coefficient correlation is 3412.\n",
    "    6. 'Contract' have statistical significance on affecting the LTV, for 'One year', whose coefficient correlation is 1897. And, for 'Two year', whose coefficient correlation is 2840.\n",
    "    7. 'PaymentMethod' have statistical significance on affecting the LTV, for 'matBank transfer', whose coefficient correlation is 583. And, for 'Credit card (automatic)', whose coefficient correlation is 579."
   ]
  },
  {
   "cell_type": "code",
   "execution_count": 60,
   "id": "ae1b4c97",
   "metadata": {},
   "outputs": [
    {
     "data": {
      "image/png": "[encoded data removed]",
      "text/plain": [
       "<Figure size 864x432 with 1 Axes>"
      ]
     },
     "metadata": {
      "needs_background": "light"
     },
     "output_type": "display_data"
    }
   ],
   "source": [
    "# Visualize the order of the variables that affects LTV from high to low.\n",
    "plt.figure(figsize = [12, 6])\n",
    "results.params.sort_values()[3:].plot.barh()\n",
    "desc(xlabel=\"coefficient correlation\", ylabel='variables',title='Coefficient correlations toward LTV by different variables');"
   ]
  },
  {
   "cell_type": "code",
   "execution_count": 61,
   "id": "4017beb5",
   "metadata": {},
   "outputs": [],
   "source": [
    "# convert the categorical variables to 0,1\n",
    "clean_df[['No','No internet service', 'OnlineSecurity_yes']] = pd.get_dummies(clean_df['OnlineSecurity'])\n",
    "clean_df[['No','No internet service', 'OnlineBackup_yes']] = pd.get_dummies(clean_df['OnlineBackup'])\n",
    "clean_df[['No','No internet service', 'DeviceProtection_yes']] = pd.get_dummies(clean_df['DeviceProtection'])\n",
    "clean_df[['No','No internet service', 'TechSupport_yes']] = pd.get_dummies(clean_df['TechSupport'])\n",
    "clean_df[['No','No internet service', 'StreamingTV_yes']] = pd.get_dummies(clean_df['StreamingTV'])\n",
    "clean_df[['No','No internet service', 'StreamingMovies_yes']] = pd.get_dummies(clean_df['StreamingMovies'])"
   ]
  },
  {
   "cell_type": "code",
   "execution_count": 62,
   "id": "3e061b99",
   "metadata": {},
   "outputs": [
    {
     "data": {
      "image/png": "[encoded data removed]",
      "text/plain": [
       "<Figure size 864x432 with 1 Axes>"
      ]
     },
     "metadata": {
      "needs_background": "light"
     },
     "output_type": "display_data"
    }
   ],
   "source": [
    "# use mutiple linear regression\n",
    "# and visualize the order of the variables that affects LTV from high to low.\n",
    "clean_df['intercept'] = 1\n",
    "lm = sm.OLS(clean_df['TotalCharges'], clean_df[['intercept', 'OnlineSecurity_yes', 'OnlineBackup_yes', 'DeviceProtection_yes',\n",
    "                                               'TechSupport_yes', 'StreamingTV_yes', \n",
    "                                                'StreamingMovies_yes']])\n",
    "results = lm.fit()\n",
    "plt.figure(figsize = [12, 6])\n",
    "results.params.sort_values()[1:].plot.barh();\n",
    "desc(xlabel=\"coefficient correlation\", ylabel='variables',title='Coefficient correlations toward LTV by different varibles');"
   ]
  },
  {
   "cell_type": "markdown",
   "id": "d9dfe93d",
   "metadata": {},
   "source": [
    "    \n",
    "    Note: Online Backup affects the LTV the most, whose coefficient correlation is 2 times as much as tech support."
   ]
  },
  {
   "cell_type": "markdown",
   "id": "0f71dc34",
   "metadata": {},
   "source": [
    "### Conclusion"
   ]
  },
  {
   "cell_type": "markdown",
   "id": "656bd4fb",
   "metadata": {},
   "source": [
    "Limitation 1 : In this dataset, we can only see one type of each variables instead of real world situation of changing different options as time passes, e.g., in real world, people might wanna try streaming service, but they might change their mind to leave the service next month."
   ]
  },
  {
   "cell_type": "markdown",
   "id": "1041f849",
   "metadata": {},
   "source": [
    "Limitation 2 : We cannot only see these variables as whole factors to understand the exact reasons why customers left because they might leave for better price offered by competitors or the bad economy in certian time, etc. We also cannot see the time they leaked, so it's hard to infer those external situation."
   ]
  },
  {
   "cell_type": "markdown",
   "id": "6504e9ec",
   "metadata": {},
   "source": [
    "##### Research Question 1: For those who unsubscribed the service, what was their average LTV(Life Time Value)? and how long did they usually stay in the service?"
   ]
  },
  {
   "cell_type": "markdown",
   "id": "334cbde3",
   "metadata": {},
   "source": [
    "I found that around 20% of the data are extremely high, so I decided to divide them to see each distribution of data.\n",
    "\n",
    "The average LTV of 80% of those who unsubscribed is 750 dollars, and its tenures is near 10 months. On the other hand, the average LTV of top 20% of those who unsubscribed is 4750 dollars, and its tenures is near 50 months. And the ratio by the sum of total LTV by each groups is 750*4 : 4750 = 1 : 1.6, which suggests we should focus on serving those 20% customers with high LTV, which brought 60%(1.6/2.6) of our revennue."
   ]
  },
  {
   "cell_type": "markdown",
   "id": "90c24388",
   "metadata": {},
   "source": [
    "##### Research Question 2: Relating to Question 1, what kinds of service they subscribed when they were still staying in subscription?"
   ]
  },
  {
   "cell_type": "markdown",
   "id": "f5e2a69b",
   "metadata": {},
   "source": [
    "Because I just found that there is a big difference in LTV and tenures between 80/20% of those who unsubscribed, so I decided to investigate this question in both 80/20% groups, too.\n",
    "\n",
    "20%(high LTV) of data has only 2% who didn't use the phone service. On the other hand, 80%(low LTV) of data has 11% who didn't use the phone service, which is 5 times as much as the phone service proportion of 20%(high LTV) of data.\n",
    "\n",
    "20%(high LTV) of data of those who used phone service has 84% used multiple lines, which is 2 times as much as the proportion of multiple lines in 80%(low LTV) of data of those who used phone service.\n",
    "\n",
    "I found all of those with high LTV all used internet service. On the other hand, the 80% of those with low LTV has 8% did not use internet service. And, in 20%(high LTV) of data , there is 90% of people used fiber optic as their internet service.\n",
    "\n",
    "For each subsets of internet services:\n",
    "\n",
    "    1. The proportion of streaming movies and streaming tv service in 20%(high LTV) of data are both near 80%, which is 2 times as much as the corresponded proportion in 80%(low LTV) of data.\n",
    "    2. The proportion of device protection and online backup service are both near 58%, which is 2.5-3 times as much as the corresponded proportion in 80%(low LTV) of data.\n",
    "    3. The proportion of tech support and online security service are both near 31%, which is near 2.5-3 times as much as the corresponded proportion in 80%(low LTV) of data."
   ]
  },
  {
   "cell_type": "markdown",
   "id": "4499086b",
   "metadata": {},
   "source": [
    "##### Research Question 3: For those who are still paying the service, what was their average LTV(Life Time Value)? and how long did they usually stay in the service?"
   ]
  },
  {
   "cell_type": "markdown",
   "id": "c88e71e8",
   "metadata": {},
   "source": [
    "The mean LTV in 80%(low LTV) of data is 1589, and the one in 20%(high LTV) of data is 6389. The mean tenures in 80%(low LTV) of data is 30, and the one in 20%(high LTV) of data is 65. And the ratio by the sum of total LTV by each groups is 1590*4 : 6389 = 1 : 1, which suggests we should focus on serving those 20% customers with high LTV, which brought 50%(1/2) of our revenue."
   ]
  },
  {
   "cell_type": "markdown",
   "id": "ef497e7a",
   "metadata": {},
   "source": [
    "##### Research Question 4: Relating to Question 3, what are the proportions of each kinds of service they are paying?"
   ]
  },
  {
   "cell_type": "markdown",
   "id": "65cca72c",
   "metadata": {},
   "source": [
    "Because There is a big difference in LTV and tenures between 80/20% of data of current customers, so I decided to investigate this question in both 80/20% groups, too.\n",
    "\n",
    "20%(high LTV) of data has only 2% who didn't use the phone service. On the other hand, 80%(low LTV) of data has 11% who didn't use the phone service, which is 5 times as much as the phone service proportion of 20%(high LTV) of data.\n",
    "\n",
    "20%(high LTV) of data of those who used phone service has 83% used multiple lines, which is 2.4 times as much as the proportion of multiple lines in 80%(low LTV) of data of those who used phone service.\n",
    "\n",
    "I found all of those with high LTV all used internet service. On the other hand, the 80% of those with low LTV has 33% did not use internet service. And, in 20%(high LTV) of data, there is 90% of people used fiber optic as their internet service.\n",
    "\n",
    "For each subsets of internet services:\n",
    "\n",
    "    1. All the proportions of each internet services in 80%(low LTV) of data are near 40%.\n",
    "    2. In 20%(high LTV) of data, both streaming movies and streaming tv are near 80%, the proportions of both device protection and online backup are near 75%, and the proportions of techsupport and online seciroty are near 62%"
   ]
  },
  {
   "cell_type": "markdown",
   "id": "966f7331",
   "metadata": {},
   "source": [
    "##### Research Question 5: For those who are still in service with LTV more than the LTV of leaked customers, which service they are paying the most?"
   ]
  },
  {
   "cell_type": "markdown",
   "id": "91d7fa75",
   "metadata": {},
   "source": [
    "For phone service:\n",
    "\n",
    "    1. In 80%(low LTV) of data of current customers, whose LTV are higher than the LTV In 80%(low LTV) of data of leaked customers, there are 86% are using phone service.\n",
    "    2. In 20%(high LTV) of data of current customers, whose LTV are higher than the LTV In 20%(high LTV) of data of leaked customers, there are 100% are using phone service.\n",
    "\n",
    "For phone service with multiple lines:\n",
    "\n",
    "    1. In 80%(low LTV) of data of current customers, whose LTV are higher than the LTV In 80%(low LTV) of data of leaked customers, there are 48% using phone service with multiple lines.\n",
    "    2. In 20%(high LTV) of data of current customers, whose LTV are higher than the LTV In 20%(high LTV) of data of leaked customers, there are 89% are using phone service.\n",
    "\n",
    "For internet service:\n",
    "\n",
    "    1. In 80%(low LTV) of data of current customers, whose LTV are higher than the LTV In 80%(low LTV) of data of leaked customers, there are 22% are not using internet service\n",
    "    2. In 20%(high LTV) of data of current customers, whose LTV are higher than the LTV In 20%(high LTV) of data of leaked customers, there are 100% are using internet service.\n",
    "\n",
    "For subsets of internet service:\n",
    "\n",
    "    1. In 80%(low LTV) of data of current customers, whose LTV are higher than the LTV In 80%(low LTV) of data of leaked customers, there are all the proportions of each internet services in 80%(low LTV) of data are near 45%.\n",
    "    2. In 20%(high LTV) of data of current customers, whose LTV are higher than the LTV In 20%(high LTV) of data of leaked customers, both streaming movies and streaming tv are near 90%, the proportions of both device protection and online backup are near 70%, and the proportions of techsupport and online seciroty are near 37%."
   ]
  },
  {
   "cell_type": "markdown",
   "id": "2457445a",
   "metadata": {},
   "source": [
    "##### Research Question 6: For two groups of those who leaked and still are paying the service, what is the proportion of each kinds of contract by each group?"
   ]
  },
  {
   "cell_type": "markdown",
   "id": "595a341c",
   "metadata": {},
   "source": [
    "1. In the data of leaked customers, there are 88% used month contract, 9% used one year contract, and 2 % two year contract.\n",
    "\n",
    "2. In the data of current customers, there are 43% using month contract, 25% used one year contract, and 32% two year contract."
   ]
  },
  {
   "cell_type": "markdown",
   "id": "00a6eacb",
   "metadata": {},
   "source": [
    "##### Research Question 7: Relating to Question 3, what are the proportions of each kinds of service they are paying?"
   ]
  },
  {
   "cell_type": "markdown",
   "id": "f786712f",
   "metadata": {},
   "source": [
    "Coefficient correlations toward LTV by different variables:\n",
    "\n",
    "    1. 'gender' does not have statistical significance on affecting the LTV.\n",
    "    2. 'Partner' have statistical significance on affecting the LTV, whose coefficient correlation is 717.\n",
    "    3. 'Dependents' have statistical significance on affecting the LTV, whose coefficient correlation is 254.\n",
    "    4. 'PhoneService' have statistical significance on affecting the LTV, whose coefficient correlation is 662.\n",
    "    5. 'InternetService' have statistical significance on affecting the LTV, for 'DSL', whose coefficient correlation is 2043. And, for 'Fiber optic', whose coefficient correlation is 3412.\n",
    "    6. 'Contract' have statistical significance on affecting the LTV, for 'One year', whose coefficient correlation is 1897. And, for 'Two year', whose coefficient correlation is 2840.\n",
    "    7. 'PaymentMethod' have statistical significance on affecting the LTV, for 'matBank transfer', whose coefficient correlation is 583. And, for 'Credit card (automatic)', whose coefficient correlation is 579.\n",
    "\n",
    "Coefficient correlations toward LTV by each subsets of internet service:\n",
    "\n",
    "    1. Online Backup affects the LTV the most, whose coefficient correlation is 2 times as much as tech support."
   ]
  },
  {
   "cell_type": "code",
   "execution_count": null,
   "id": "fb2046da",
   "metadata": {},
   "outputs": [],
   "source": []
  }
 ],
 "metadata": {
  "kernelspec": {
   "display_name": "Python 3",
   "language": "python",
   "name": "python3"
  },
  "language_info": {
   "codemirror_mode": {
    "name": "ipython",
    "version": 3
   },
   "file_extension": ".py",
   "mimetype": "text/x-python",
   "name": "python",
   "nbconvert_exporter": "python",
   "pygments_lexer": "ipython3",
   "version": "3.8.8"
  }
 },
 "nbformat": 4,
 "nbformat_minor": 5
}
